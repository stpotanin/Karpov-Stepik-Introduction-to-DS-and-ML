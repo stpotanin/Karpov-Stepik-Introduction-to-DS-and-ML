{
  "nbformat": 4,
  "nbformat_minor": 0,
  "metadata": {
    "colab": {
      "provenance": [],
      "authorship_tag": "ABX9TyOpZPMiW/iRkiIkKTj8fm5r"
    },
    "kernelspec": {
      "name": "python3",
      "display_name": "Python 3"
    },
    "language_info": {
      "name": "python"
    }
  },
  "cells": [
    {
      "cell_type": "markdown",
      "source": [
        "[3.1 Геометрическая идея определителя](https://youtu.be/WFPKeoDcEFw?si=0p4OSKxcoCifSf4E)\n",
        "\n",
        "Теория и задачи [1](https://www.math10.com/ru/vysshaya-matematika/matrix/determinant.html)"
      ],
      "metadata": {
        "id": "4HBqljrBACgE"
      }
    },
    {
      "cell_type": "markdown",
      "source": [
        "Найти определитель матрицы 3 x 3\n",
        "\n",
        "$$\n",
        "$$\n",
        "\\begin{bmatrix}\n",
        "1 & 4 & 2 \\\\\n",
        "0 & 0 & 0 \\\\\n",
        "3 & 9 & 5 \\\\\n",
        "\\end{bmatrix}\n",
        "$$\n",
        "$$"
      ],
      "metadata": {
        "id": "Ay7gDAHFCedr"
      }
    },
    {
      "cell_type": "markdown",
      "source": [
        "# Решение"
      ],
      "metadata": {
        "id": "npe3jc72HChA"
      }
    },
    {
      "cell_type": "code",
      "source": [
        "from sympy import Matrix # для красивого вывода\n",
        "\n",
        "def det(A):\n",
        "    # Функция для вычисления определителя матрицы\n",
        "    n = len(A)  # Размер матрицы\n",
        "\n",
        "    if n == 1:  # Базовый случай: матрица 1x1\n",
        "        return A[0][0]\n",
        "\n",
        "    if n == 2:  # Базовый случай: матрица 2x2\n",
        "        return A[0][0] * A[1][1] - A[0][1] * A[1][0]\n",
        "\n",
        "    det_value = 0  # Инициализация определителя\n",
        "    for j in range(n):\n",
        "        # Создание подматрицы\n",
        "        submatrix = [row[:j] + row[j+1:] for row in A[1:]]\n",
        "        det_value += (-1)**j * A[0][j] * det(submatrix)\n",
        "\n",
        "    return det_value"
      ],
      "metadata": {
        "id": "uT0wI8ZRHPN9"
      },
      "execution_count": null,
      "outputs": []
    },
    {
      "cell_type": "code",
      "source": [
        "A = [[1, 4, 2],\n",
        "     [0, 0, 0],\n",
        "     [3, 9, 5]]\n",
        "\n",
        "print(\"Матрица A:\\n\")\n",
        "Matrix(A)"
      ],
      "metadata": {
        "colab": {
          "base_uri": "https://localhost:8080/",
          "height": 113
        },
        "id": "r7UUtXxq0tnD",
        "outputId": "2be5913f-f072-4a64-a310-a273fd65279a"
      },
      "execution_count": null,
      "outputs": [
        {
          "output_type": "stream",
          "name": "stdout",
          "text": [
            "Матрица A:\n",
            "\n"
          ]
        },
        {
          "output_type": "execute_result",
          "data": {
            "text/plain": [
              "Matrix([\n",
              "[1, 4, 2],\n",
              "[0, 0, 0],\n",
              "[3, 9, 5]])"
            ],
            "text/latex": "$\\displaystyle \\left[\\begin{matrix}1 & 4 & 2\\\\0 & 0 & 0\\\\3 & 9 & 5\\end{matrix}\\right]$"
          },
          "metadata": {},
          "execution_count": 2
        }
      ]
    },
    {
      "cell_type": "code",
      "source": [
        "print(f\"Определитель матрицы A: {det(A)}\\n\")"
      ],
      "metadata": {
        "colab": {
          "base_uri": "https://localhost:8080/"
        },
        "id": "UHwGaJPk0uy-",
        "outputId": "8e5e0085-ac22-4668-db1d-728dad1b482a"
      },
      "execution_count": null,
      "outputs": [
        {
          "output_type": "stream",
          "name": "stdout",
          "text": [
            "Определитель матрицы A: 0\n",
            "\n"
          ]
        }
      ]
    }
  ]
}
