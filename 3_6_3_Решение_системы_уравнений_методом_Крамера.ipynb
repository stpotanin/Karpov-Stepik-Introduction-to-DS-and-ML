{
  "nbformat": 4,
  "nbformat_minor": 0,
  "metadata": {
    "colab": {
      "provenance": [],
      "authorship_tag": "ABX9TyPh7MuCSHXQFnJV3brye+r+"
    },
    "kernelspec": {
      "name": "python3",
      "display_name": "Python 3"
    },
    "language_info": {
      "name": "python"
    }
  },
  "cells": [
    {
      "cell_type": "markdown",
      "source": [
        "[3.6. Решение системы уравнений методом Крамера](https://youtu.be/cdEw-6Dkesg?si=Q7w0yASSw6bE2yVx)\n",
        "\n",
        "Теория [1](https://spravochnick.ru/matematika/metod_kramera/), [2](https://dzen.ru/a/Xu9L_-49Xhq28z8B), [3](http://www.mathprofi.ru/pravilo_kramera_matrichnyi_metod.html)"
      ],
      "metadata": {
        "id": "4HBqljrBACgE"
      }
    },
    {
      "cell_type": "markdown",
      "source": [
        "# [Пример 2](https://xn--24-6kcaa2awqnc8dd.xn--p1ai/metod-kramera.html)\n",
        "Решить систему линейных уравнений\n",
        "\n",
        "$$\n",
        "\\begin{cases}\n",
        "x + y - 2z = 2 \\\\\n",
        "2x -3y - z = 1 \\\\\n",
        "x - 4y + z = 3\n",
        "\\end{cases}\n",
        "$$"
      ],
      "metadata": {
        "id": "Ay7gDAHFCedr"
      }
    },
    {
      "cell_type": "markdown",
      "source": [
        "# Решение"
      ],
      "metadata": {
        "id": "npe3jc72HChA"
      }
    },
    {
      "cell_type": "code",
      "source": [
        "def det(A):\n",
        "    # Функция для вычисления определителя матрицы\n",
        "    n = len(A)  # Размер матрицы\n",
        "\n",
        "    if n == 1:  # Базовый случай: матрица 1x1\n",
        "        return A[0][0]\n",
        "\n",
        "    if n == 2:  # Базовый случай: матрица 2x2\n",
        "        return A[0][0] * A[1][1] - A[0][1] * A[1][0]\n",
        "\n",
        "    det_value = 0  # Инициализация определителя\n",
        "    for j in range(n):\n",
        "        # Создание подматрицы\n",
        "        submatrix = [row[:j] + row[j+1:] for row in A[1:]]\n",
        "        det_value += (-1)**j * A[0][j] * det(submatrix)\n",
        "\n",
        "    return det_value\n",
        "\n",
        "# Пример использования функции\n",
        "A2 = [[1, 1, -2],\n",
        "     [2, -3, -1],\n",
        "     [1, -4, 1]]\n",
        "\n",
        "print(f\"Определитель матрицы A2: {det(A2)}\")\n",
        "\n",
        "# Решение задачи\n",
        "\n",
        "A = [[1, 1, -2],\n",
        "     [2, -3, -1],\n",
        "     [1, -4, 1]]\n",
        "b = [2, 1, 3]\n",
        "\n",
        "print(f\"Определитель матрицы A: {det(A)}\")\n",
        "\n",
        "def kramer(A, b):\n",
        "    det_A = det(A)\n",
        "    if det_A == 0:\n",
        "        return \"Система не имеет решений\"\n",
        "    else:\n",
        "        x = []\n",
        "        for i in range(len(A)):\n",
        "            A_i = [[A[j][k] for k in range(len(A[0]))] for j in range(len(A))]\n",
        "            x.append(det(A_i) / det_A)\n",
        "        return x\n",
        "\n",
        "kramer(A, b)"
      ],
      "metadata": {
        "id": "uT0wI8ZRHPN9",
        "colab": {
          "base_uri": "https://localhost:8080/",
          "height": 70
        },
        "outputId": "5c9ca071-aad7-4210-8c36-a9c2b07bab3b"
      },
      "execution_count": 6,
      "outputs": [
        {
          "output_type": "stream",
          "name": "stdout",
          "text": [
            "Определитель матрицы A2: 0\n",
            "Определитель матрицы A: 0\n"
          ]
        },
        {
          "output_type": "execute_result",
          "data": {
            "text/plain": [
              "'Система не имеет решений'"
            ],
            "application/vnd.google.colaboratory.intrinsic+json": {
              "type": "string"
            }
          },
          "metadata": {},
          "execution_count": 6
        }
      ]
    },
    {
      "cell_type": "markdown",
      "source": [
        "# Теория\n",
        "Метод Крамра применяется для решения систем линейных уравнений, в которых число уравнений равно числу неизвестных. Рассмотрим систему двух уравнений с двумя неизвестными:\n",
        "\n",
        "$$\n",
        "\\begin{cases}\n",
        "a_1x + b_1y = c_1 \\\\\n",
        "a_2x + b_2y = c_2\n",
        "\\end{cases}\n",
        "$$\n",
        "\n",
        "Чтобы решить эту систему методом Крамера, выполните следующие шаги:\n",
        "\n",
        "1. **Запишите матрицу коэффициентов** системы:\n",
        "\n",
        "$$\n",
        "A = \\begin{pmatrix}\n",
        "a_1 & b_1 \\\\\n",
        "a_2 & b_2\n",
        "\\end{pmatrix}\n",
        "$$\n",
        "\n",
        "2. **Найдите определитель матрицы коэффициентов** $ \\Delta $:\n",
        "\n",
        "$$\n",
        "\\Delta = \\det(A) = a_1b_2 - a_2b_1\n",
        "$$\n",
        "\n",
        "3. **Запишите матрицы для нахождения $ x $ и $ y $**:\n",
        "\n",
        "   - Матрица для нахождения $ x $ получается заменой первого столбца матрицы $ A $ на столбец свободных членов $ c_1 $ и $ c_2 $:\n",
        "\n",
        "$$\n",
        "A_x = \\begin{pmatrix}\n",
        "c_1 & b_1 \\\\\n",
        "c_2 & b_2\n",
        "\\end{pmatrix}\n",
        "$$\n",
        "\n",
        "   - Матрица для нахождения $ y $ получается заменой второго столбца матрицы $ A $ на столбец свободных членов $ c_1 $ и $ c_2 $:\n",
        "\n",
        "$$\n",
        "A_y = \\begin{pmatrix}\n",
        "a_1 & c_1 \\\\\n",
        "a_2 & c_2\n",
        "\\end{pmatrix}\n",
        "$$\n",
        "\n",
        "4. **Найдите определители матриц $ \\Delta_x $ и $ \\Delta_y $**:\n",
        "\n",
        "$$\n",
        "\\Delta_x = \\det(A_x) = c_1b_2 - c_2b_1\n",
        "$$\n",
        "\n",
        "$$\n",
        "\\Delta_y = \\det(A_y) = a_1c_2 - a_2c_1\n",
        "$$\n",
        "\n",
        "5. **Решение системы уравнений**:\n",
        "\n",
        "$$\n",
        "x = \\frac{\\Delta_x}{\\Delta}\n",
        "$$\n",
        "\n",
        "$$\n",
        "y = \\frac{\\Delta_y}{\\Delta}\n",
        "$$\n",
        "\n",
        "### Пример\n",
        "\n",
        "Рассмотрим следующую систему уравнений:\n",
        "\n",
        "$$\n",
        "\\begin{cases}\n",
        "2x + 3y = 5 \\\\\n",
        "4x + 6y = 8\n",
        "\\end{cases}\n",
        "$$\n",
        "\n",
        "1. Матрица коэффициентов:\n",
        "\n",
        "$$\n",
        "A = \\begin{pmatrix}\n",
        "2 & 3 \\\\\n",
        "4 & 6\n",
        "\\end{pmatrix}\n",
        "$$\n",
        "\n",
        "2. Определитель:\n",
        "\n",
        "$$\n",
        "\\Delta = \\det(A) = 2 \\cdot 6 - 4 \\cdot 3 = 12 - 12 = 0\n",
        "$$\n",
        "\n",
        "Так как $ \\Delta = 0 $, метод Крамера не может быть применен. Это означает, что система либо не имеет решений, либо имеет бесконечно много решений.\n",
        "\n",
        "Для решения подобных систем нужно использовать другие методы, такие как метод Гаусса или проверку совместности системы."
      ],
      "metadata": {
        "id": "Q6YrE9B3DmCF"
      }
    }
  ]
}