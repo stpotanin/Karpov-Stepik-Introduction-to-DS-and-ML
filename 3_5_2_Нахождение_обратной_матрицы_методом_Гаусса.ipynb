{
  "nbformat": 4,
  "nbformat_minor": 0,
  "metadata": {
    "colab": {
      "provenance": [],
      "authorship_tag": "ABX9TyO6mo5ixTd1HQO+aG9nwjuo"
    },
    "kernelspec": {
      "name": "python3",
      "display_name": "Python 3"
    },
    "language_info": {
      "name": "python"
    }
  },
  "cells": [
    {
      "cell_type": "markdown",
      "source": [
        "https://mathter.pro/algebra/5_11_kak_nayti_obratnuyu_matricy_metodom_gaussa.html\n",
        "# Пример 126"
      ],
      "metadata": {
        "id": "AXcH2Q-B1ocx"
      }
    },
    {
      "cell_type": "markdown",
      "source": [
        "Найти обратную матрицу с помощью элементарных преобразований\n",
        "\n",
        "$$\n",
        "$$\n",
        "\\begin{bmatrix}\n",
        "3 & 4 & 2 \\\\\n",
        "2 & -1 & -3 \\\\\n",
        "1 & 5 & 1 \\\\\n",
        "\\end{bmatrix}\n",
        "$$\n",
        "$$"
      ],
      "metadata": {
        "id": "4ldJsDfX6_5d"
      }
    },
    {
      "cell_type": "markdown",
      "source": [
        "## Решение"
      ],
      "metadata": {
        "id": "K6lhyXJY6gIY"
      }
    },
    {
      "cell_type": "markdown",
      "source": [
        "\n",
        "1. Составим расширенную матрицу \\( [A | I] \\):\n",
        "\n",
        "$$\n",
        "$$\n",
        "\\begin{bmatrix}\n",
        "3 & 4 & 2 & | & 1 & 0 & 0 \\\\\n",
        "2 & -1 & -3 & | & 0 & 1 & 0 \\\\\n",
        "1 & 5 & 1 & | & 0 & 0 & 1 \\\\\n",
        "\\end{bmatrix}\n",
        "$$\n",
        "$$\n",
        "\n",
        "2. Наша цель — преобразовать матрицу $A$ в единичную матрицу\n",
        "\n",
        "3. В итоге, когда матрица $A$ станет единичной, $I$ превратится в $A^{-1}$"
      ],
      "metadata": {
        "id": "p5qk-5377aFv"
      }
    },
    {
      "cell_type": "code",
      "source": [
        "# делаем матрицу\n",
        "from sympy import Matrix\n",
        "\n",
        "A = Matrix([\n",
        "    [3, 4, 2],\n",
        "    [2, -1, -3],\n",
        "    [1, 5, 1]\n",
        "])\n",
        "I = Matrix.eye(3)\n",
        "B = A.row_join(I)\n",
        "B"
      ],
      "metadata": {
        "id": "Aa3yNpMa9XUX",
        "colab": {
          "base_uri": "https://localhost:8080/",
          "height": 78
        },
        "outputId": "e749f554-a956-4f99-aa48-49b1510b3f39"
      },
      "execution_count": null,
      "outputs": [
        {
          "output_type": "execute_result",
          "data": {
            "text/plain": [
              "Matrix([\n",
              "[3,  4,  2, 1, 0, 0],\n",
              "[2, -1, -3, 0, 1, 0],\n",
              "[1,  5,  1, 0, 0, 1]])"
            ],
            "text/latex": "$\\displaystyle \\left[\\begin{matrix}3 & 4 & 2 & 1 & 0 & 0\\\\2 & -1 & -3 & 0 & 1 & 0\\\\1 & 5 & 1 & 0 & 0 & 1\\end{matrix}\\right]$"
          },
          "metadata": {},
          "execution_count": 33
        }
      ]
    },
    {
      "cell_type": "code",
      "source": [
        "# меняяем 1-ю и третью строки\n",
        "# чтобы знак не поменялссяя меняем 2-ю и 3-ю\n",
        "B[0,:], B[2,:] = B[2,:], B[0,:].copy()\n",
        "B[1,:], B[2,:] = B[2,:], B[1,:].copy()\n",
        "B\n",
        "# TODO"
      ],
      "metadata": {
        "colab": {
          "base_uri": "https://localhost:8080/",
          "height": 78
        },
        "id": "ReA3beu-2B5-",
        "outputId": "3b0c09ed-631d-4b2a-e116-b3e0dc056e08"
      },
      "execution_count": null,
      "outputs": [
        {
          "output_type": "execute_result",
          "data": {
            "text/plain": [
              "Matrix([\n",
              "[1,  5,  1, 0, 0, 1],\n",
              "[3,  4,  2, 1, 0, 0],\n",
              "[2, -1, -3, 0, 1, 0]])"
            ],
            "text/latex": "$\\displaystyle \\left[\\begin{matrix}1 & 5 & 1 & 0 & 0 & 1\\\\3 & 4 & 2 & 1 & 0 & 0\\\\2 & -1 & -3 & 0 & 1 & 0\\end{matrix}\\right]$"
          },
          "metadata": {},
          "execution_count": 34
        }
      ]
    },
    {
      "cell_type": "code",
      "source": [
        "# отнимаем первую строку из второй трижды, из третьей - дважды\n",
        "B[1,:] -= 3 * B[0,:]\n",
        "B[2,:] -= 2 * B[0,:]\n",
        "B\n",
        "#"
      ],
      "metadata": {
        "id": "1vKyH8pPF65E",
        "colab": {
          "base_uri": "https://localhost:8080/",
          "height": 78
        },
        "outputId": "2588afa8-c42c-45d4-9aa2-5365c59d49b1"
      },
      "execution_count": null,
      "outputs": [
        {
          "output_type": "execute_result",
          "data": {
            "text/plain": [
              "Matrix([\n",
              "[1,   5,  1, 0, 0,  1],\n",
              "[0, -11, -1, 1, 0, -3],\n",
              "[0, -11, -5, 0, 1, -2]])"
            ],
            "text/latex": "$\\displaystyle \\left[\\begin{matrix}1 & 5 & 1 & 0 & 0 & 1\\\\0 & -11 & -1 & 1 & 0 & -3\\\\0 & -11 & -5 & 0 & 1 & -2\\end{matrix}\\right]$"
          },
          "metadata": {},
          "execution_count": 35
        }
      ]
    },
    {
      "cell_type": "code",
      "source": [
        "# вычитаем из третьей вторую\n",
        "B[2,:] -= B[1,:]\n",
        "B\n",
        "#"
      ],
      "metadata": {
        "colab": {
          "base_uri": "https://localhost:8080/",
          "height": 78
        },
        "id": "E0YSGf0HMZM4",
        "outputId": "2f07450f-6174-47f0-f318-e4e72e72dee1"
      },
      "execution_count": null,
      "outputs": [
        {
          "output_type": "execute_result",
          "data": {
            "text/plain": [
              "Matrix([\n",
              "[1,   5,  1,  0, 0,  1],\n",
              "[0, -11, -1,  1, 0, -3],\n",
              "[0,   0, -4, -1, 1,  1]])"
            ],
            "text/latex": "$\\displaystyle \\left[\\begin{matrix}1 & 5 & 1 & 0 & 0 & 1\\\\0 & -11 & -1 & 1 & 0 & -3\\\\0 & 0 & -4 & -1 & 1 & 1\\end{matrix}\\right]$"
          },
          "metadata": {},
          "execution_count": 36
        }
      ]
    },
    {
      "cell_type": "code",
      "source": [
        "# к первой прибавим вторую, умноженную на 5/11\n",
        "B[0,:] += B[1,:] * 5/11\n",
        "B"
      ],
      "metadata": {
        "colab": {
          "base_uri": "https://localhost:8080/",
          "height": 78
        },
        "id": "oe26qdLZMrnY",
        "outputId": "cd5e87ba-5de4-46db-a30d-e77da1bab143"
      },
      "execution_count": null,
      "outputs": [
        {
          "output_type": "execute_result",
          "data": {
            "text/plain": [
              "Matrix([\n",
              "[1,   0, 6/11, 5/11, 0, -4/11],\n",
              "[0, -11,   -1,    1, 0,    -3],\n",
              "[0,   0,   -4,   -1, 1,     1]])"
            ],
            "text/latex": "$\\displaystyle \\left[\\begin{matrix}1 & 0 & \\frac{6}{11} & \\frac{5}{11} & 0 & - \\frac{4}{11}\\\\0 & -11 & -1 & 1 & 0 & -3\\\\0 & 0 & -4 & -1 & 1 & 1\\end{matrix}\\right]$"
          },
          "metadata": {},
          "execution_count": 37
        }
      ]
    },
    {
      "cell_type": "code",
      "source": [
        "# к первой прибавим третью , умноженную на 6/44\n",
        "B[0,:] += B[2,:] * 6/44\n",
        "B"
      ],
      "metadata": {
        "colab": {
          "base_uri": "https://localhost:8080/",
          "height": 78
        },
        "id": "3hDqFmfVNFU0",
        "outputId": "216612bf-ef19-4aeb-fa59-0f3526896f66"
      },
      "execution_count": null,
      "outputs": [
        {
          "output_type": "execute_result",
          "data": {
            "text/plain": [
              "Matrix([\n",
              "[1,   0,  0, 7/22, 3/22, -5/22],\n",
              "[0, -11, -1,    1,    0,    -3],\n",
              "[0,   0, -4,   -1,    1,     1]])"
            ],
            "text/latex": "$\\displaystyle \\left[\\begin{matrix}1 & 0 & 0 & \\frac{7}{22} & \\frac{3}{22} & - \\frac{5}{22}\\\\0 & -11 & -1 & 1 & 0 & -3\\\\0 & 0 & -4 & -1 & 1 & 1\\end{matrix}\\right]$"
          },
          "metadata": {},
          "execution_count": 38
        }
      ]
    },
    {
      "cell_type": "code",
      "source": [
        "# из второй вычтем третью, делённую на 4\n",
        "B[1,:] -= B[2,:] / 4\n",
        "B"
      ],
      "metadata": {
        "colab": {
          "base_uri": "https://localhost:8080/",
          "height": 78
        },
        "id": "uz2_GXY-OhEv",
        "outputId": "4d5868d3-9393-4ce9-de5c-cef11fc16545"
      },
      "execution_count": null,
      "outputs": [
        {
          "output_type": "execute_result",
          "data": {
            "text/plain": [
              "Matrix([\n",
              "[1,   0,  0, 7/22, 3/22, -5/22],\n",
              "[0, -11,  0,  5/4, -1/4, -13/4],\n",
              "[0,   0, -4,   -1,    1,     1]])"
            ],
            "text/latex": "$\\displaystyle \\left[\\begin{matrix}1 & 0 & 0 & \\frac{7}{22} & \\frac{3}{22} & - \\frac{5}{22}\\\\0 & -11 & 0 & \\frac{5}{4} & - \\frac{1}{4} & - \\frac{13}{4}\\\\0 & 0 & -4 & -1 & 1 & 1\\end{matrix}\\right]$"
          },
          "metadata": {},
          "execution_count": 39
        }
      ]
    },
    {
      "cell_type": "code",
      "source": [
        "# вторую делим на -11, третью на -4\n",
        "B[1,:] /= -11\n",
        "B[2,:] /= -4\n",
        "B\n",
        "#"
      ],
      "metadata": {
        "colab": {
          "base_uri": "https://localhost:8080/",
          "height": 78
        },
        "id": "3GIOMJs_OxcH",
        "outputId": "00bc308a-af12-4784-a420-04cb196be7e0"
      },
      "execution_count": null,
      "outputs": [
        {
          "output_type": "execute_result",
          "data": {
            "text/plain": [
              "Matrix([\n",
              "[1, 0, 0,  7/22, 3/22, -5/22],\n",
              "[0, 1, 0, -5/44, 1/44, 13/44],\n",
              "[0, 0, 1,   1/4, -1/4,  -1/4]])"
            ],
            "text/latex": "$\\displaystyle \\left[\\begin{matrix}1 & 0 & 0 & \\frac{7}{22} & \\frac{3}{22} & - \\frac{5}{22}\\\\0 & 1 & 0 & - \\frac{5}{44} & \\frac{1}{44} & \\frac{13}{44}\\\\0 & 0 & 1 & \\frac{1}{4} & - \\frac{1}{4} & - \\frac{1}{4}\\end{matrix}\\right]$"
          },
          "metadata": {},
          "execution_count": 40
        }
      ]
    },
    {
      "cell_type": "code",
      "source": [
        "# получаем ответ из трёх последних столбцов\n",
        "A_inv = B[:,3:]\n",
        "A_inv"
      ],
      "metadata": {
        "colab": {
          "base_uri": "https://localhost:8080/",
          "height": 78
        },
        "id": "q-H5q2GhPCS5",
        "outputId": "569136f0-0760-4988-d8e4-2894febdd751"
      },
      "execution_count": null,
      "outputs": [
        {
          "output_type": "execute_result",
          "data": {
            "text/plain": [
              "Matrix([\n",
              "[ 7/22, 3/22, -5/22],\n",
              "[-5/44, 1/44, 13/44],\n",
              "[  1/4, -1/4,  -1/4]])"
            ],
            "text/latex": "$\\displaystyle \\left[\\begin{matrix}\\frac{7}{22} & \\frac{3}{22} & - \\frac{5}{22}\\\\- \\frac{5}{44} & \\frac{1}{44} & \\frac{13}{44}\\\\\\frac{1}{4} & - \\frac{1}{4} & - \\frac{1}{4}\\end{matrix}\\right]$"
          },
          "metadata": {},
          "execution_count": 41
        }
      ]
    },
    {
      "cell_type": "code",
      "source": [
        "# п"
      ],
      "metadata": {
        "id": "R6zQXpySPOpK"
      },
      "execution_count": null,
      "outputs": []
    },
    {
      "cell_type": "code",
      "source": [
        "# проверка\n",
        "A * A_inv"
      ],
      "metadata": {
        "colab": {
          "base_uri": "https://localhost:8080/",
          "height": 78
        },
        "id": "ntL783qiPPQv",
        "outputId": "3cdb93cc-d26d-46df-ad9d-232fac3c7611"
      },
      "execution_count": null,
      "outputs": [
        {
          "output_type": "execute_result",
          "data": {
            "text/plain": [
              "Matrix([\n",
              "[1, 0, 0],\n",
              "[0, 1, 0],\n",
              "[0, 0, 1]])"
            ],
            "text/latex": "$\\displaystyle \\left[\\begin{matrix}1 & 0 & 0\\\\0 & 1 & 0\\\\0 & 0 & 1\\end{matrix}\\right]$"
          },
          "metadata": {},
          "execution_count": 42
        }
      ]
    }
  ]
}