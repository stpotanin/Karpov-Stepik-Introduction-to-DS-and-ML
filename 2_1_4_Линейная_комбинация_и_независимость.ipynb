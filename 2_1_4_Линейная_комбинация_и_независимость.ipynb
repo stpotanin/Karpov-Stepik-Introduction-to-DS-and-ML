{
  "nbformat": 4,
  "nbformat_minor": 0,
  "metadata": {
    "colab": {
      "provenance": [],
      "authorship_tag": "ABX9TyOzxIljq1+wKunPOJ1BNKTc"
    },
    "kernelspec": {
      "name": "python3",
      "display_name": "Python 3"
    },
    "language_info": {
      "name": "python"
    }
  },
  "cells": [
    {
      "cell_type": "markdown",
      "source": [
        "https://math.csu.ru/new_files/students/lectures/algebra/gorkovec_example_resh_zadach_2.pdf\n",
        "# Задача 04"
      ],
      "metadata": {
        "id": "AXcH2Q-B1ocx"
      }
    },
    {
      "cell_type": "markdown",
      "source": [
        "Задача 4. Доказать, что система векторов ${(2, 1, 2),(3, −1, 4),(2, 4, 1)}$ является базисом пространства $R^3$ и найти координаты вектора $x = (8, -4, 4)$ в этом базисе."
      ],
      "metadata": {
        "id": "4ldJsDfX6_5d"
      }
    },
    {
      "cell_type": "markdown",
      "source": [
        "## Решение"
      ],
      "metadata": {
        "id": "K6lhyXJY6gIY"
      }
    },
    {
      "cell_type": "markdown",
      "source": [
        "Число векторов в системе совпадает с размерностью пространства, поэтому для доказательства того, что эти векторы образуют базис, достаточно проверить, что они линейно независимы."
      ],
      "metadata": {
        "id": "p5qk-5377aFv"
      }
    },
    {
      "cell_type": "code",
      "source": [
        "# делаем матрицу\n",
        "from sympy import Matrix\n",
        "\n",
        "a1 = [2, 1, 2]\n",
        "a2 = [3, -1, 4]\n",
        "a3 = [2, 4, 1]\n",
        "\n",
        "\n",
        "A = Matrix([a1, a2, a3])\n",
        "A"
      ],
      "metadata": {
        "colab": {
          "base_uri": "https://localhost:8080/",
          "height": 78
        },
        "id": "Aa3yNpMa9XUX",
        "outputId": "f52bf490-f69b-4dd6-e8e1-2c7fdce2098c"
      },
      "execution_count": null,
      "outputs": [
        {
          "output_type": "execute_result",
          "data": {
            "text/plain": [
              "Matrix([\n",
              "[2,  1, 2],\n",
              "[3, -1, 4],\n",
              "[2,  4, 1]])"
            ],
            "text/latex": "$\\displaystyle \\left[\\begin{matrix}2 & 1 & 2\\\\3 & -1 & 4\\\\2 & 4 & 1\\end{matrix}\\right]$"
          },
          "metadata": {},
          "execution_count": 18
        }
      ]
    },
    {
      "cell_type": "code",
      "source": [
        "# найдём определитель\n",
        "A.det()\n",
        "# Следовательно исходные векторы образуют базис пространства R3"
      ],
      "metadata": {
        "colab": {
          "base_uri": "https://localhost:8080/",
          "height": 37
        },
        "id": "UCAe2nG8LfvC",
        "outputId": "13db7865-b1df-48bc-bfdc-9a298647c4a1"
      },
      "execution_count": null,
      "outputs": [
        {
          "output_type": "execute_result",
          "data": {
            "text/plain": [
              "-1"
            ],
            "text/latex": "$\\displaystyle -1$"
          },
          "metadata": {},
          "execution_count": 19
        }
      ]
    },
    {
      "cell_type": "markdown",
      "source": [
        "Поскольку $A * X' = X$, то $X1 = A^{-1} * X$"
      ],
      "metadata": {
        "id": "M3GNImy07B6F"
      }
    },
    {
      "cell_type": "code",
      "source": [
        "\n",
        "# матрицу можно рассматривать как линейный оператор, преобразующий исходное пространство в новое\n",
        "# найдём координаты x=(8,−4,4) в новом пространстве\n",
        "x = (8, -4, 4)\n",
        "x = Matrix(x)\n",
        "A.inv() * x"
      ],
      "metadata": {
        "colab": {
          "base_uri": "https://localhost:8080/",
          "height": 78
        },
        "id": "ReA3beu-2B5-",
        "outputId": "4559b192-c49b-4986-a68e-1bb312946848"
      },
      "execution_count": null,
      "outputs": [
        {
          "output_type": "execute_result",
          "data": {
            "text/plain": [
              "Matrix([\n",
              "[ 140],\n",
              "[ -40],\n",
              "[-116]])"
            ],
            "text/latex": "$\\displaystyle \\left[\\begin{matrix}140\\\\-40\\\\-116\\end{matrix}\\right]$"
          },
          "metadata": {},
          "execution_count": 24
        }
      ]
    }
  ]
}