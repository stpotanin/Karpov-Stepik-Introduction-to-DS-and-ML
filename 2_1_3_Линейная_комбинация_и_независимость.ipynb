{
  "nbformat": 4,
  "nbformat_minor": 0,
  "metadata": {
    "colab": {
      "provenance": [],
      "authorship_tag": "ABX9TyMOpDoerQU5WVLfhxnHi9xN"
    },
    "kernelspec": {
      "name": "python3",
      "display_name": "Python 3"
    },
    "language_info": {
      "name": "python"
    }
  },
  "cells": [
    {
      "cell_type": "markdown",
      "source": [
        "https://math.csu.ru/new_files/students/lectures/algebra/gorkovec_example_resh_zadach_2.pdf\n",
        "# Задача 03"
      ],
      "metadata": {
        "id": "AXcH2Q-B1ocx"
      }
    },
    {
      "cell_type": "markdown",
      "source": [
        "Задача 3. Дополнить до базиса пространства $R^4$ систему векторов:\n",
        "$\n",
        "a1 = (2, 1, -4, 3), a2 = (1, 0, 3, -2).\n",
        "$"
      ],
      "metadata": {
        "id": "4ldJsDfX6_5d"
      }
    },
    {
      "cell_type": "markdown",
      "source": [
        "## Решение"
      ],
      "metadata": {
        "id": "K6lhyXJY6gIY"
      }
    },
    {
      "cell_type": "markdown",
      "source": [
        "стандартный базис\n",
        "\n",
        "$\n",
        "R^4 : e_1 =(1,0,0,0),e_2 =(0,1,0,0),e_3 =(0,0,1,0),e_4 =(0,0,0,1)\n",
        "$\n",
        "\n",
        "Попробуем добавить $e_1$ и $e_2$ к $a_1$ и $a_2$ и проверим их линейную независимость."
      ],
      "metadata": {
        "id": "p5qk-5377aFv"
      }
    },
    {
      "cell_type": "code",
      "source": [
        "# делаем матрицу\n",
        "from sympy import Matrix\n",
        "\n",
        "a1 = [2, 1, -4, 3]\n",
        "a2 = [1, 0, 3, -2]\n",
        "e1 = [1, 0, 0, 0]\n",
        "e2 = [0, 1, 0, 0]\n",
        "\n",
        "A = Matrix([a1, a2, e1, e2])\n",
        "A"
      ],
      "metadata": {
        "colab": {
          "base_uri": "https://localhost:8080/",
          "height": 98
        },
        "id": "Aa3yNpMa9XUX",
        "outputId": "e0faf227-2ee4-4ec2-f5c5-e85133e054a0"
      },
      "execution_count": null,
      "outputs": [
        {
          "output_type": "execute_result",
          "data": {
            "text/plain": [
              "Matrix([\n",
              "[2, 1, -4,  3],\n",
              "[1, 0,  3, -2],\n",
              "[1, 0,  0,  0],\n",
              "[0, 1,  0,  0]])"
            ],
            "text/latex": "$\\displaystyle \\left[\\begin{matrix}2 & 1 & -4 & 3\\\\1 & 0 & 3 & -2\\\\1 & 0 & 0 & 0\\\\0 & 1 & 0 & 0\\end{matrix}\\right]$"
          },
          "metadata": {},
          "execution_count": 1
        }
      ]
    },
    {
      "cell_type": "code",
      "source": [
        "# определитель кодом\n",
        "A.det()"
      ],
      "metadata": {
        "colab": {
          "base_uri": "https://localhost:8080/",
          "height": 37
        },
        "id": "-MdpM9vjLgTS",
        "outputId": "793866d8-7f02-424e-dd34-d7a17e6ed583"
      },
      "execution_count": null,
      "outputs": [
        {
          "output_type": "execute_result",
          "data": {
            "text/plain": [
              "-1"
            ],
            "text/latex": "$\\displaystyle -1$"
          },
          "metadata": {},
          "execution_count": 2
        }
      ]
    },
    {
      "cell_type": "markdown",
      "source": [
        "# Вручную:"
      ],
      "metadata": {
        "id": "EBe2jkhcLo2m"
      }
    },
    {
      "cell_type": "code",
      "source": [
        "# упрощаем вычитая третью строку из второй и первой\n",
        "A[0,:] = A[0,:] - A[2,:] * 2\n",
        "A[1,:] = A[1,:] - A[2,:] * 1\n",
        "A"
      ],
      "metadata": {
        "colab": {
          "base_uri": "https://localhost:8080/"
        },
        "id": "UCAe2nG8LfvC",
        "outputId": "df984a9d-b784-49a8-f82c-c5d0efd29968"
      },
      "execution_count": null,
      "outputs": [
        {
          "output_type": "execute_result",
          "data": {
            "text/plain": [
              "Matrix([\n",
              "[0, 1, -4,  3],\n",
              "[0, 0,  3, -2],\n",
              "[1, 0,  0,  0],\n",
              "[0, 1,  0,  0]])"
            ],
            "text/latex": "$\\displaystyle \\left[\\begin{matrix}0 & 1 & -4 & 3\\\\0 & 0 & 3 & -2\\\\1 & 0 & 0 & 0\\\\0 & 1 & 0 & 0\\end{matrix}\\right]$"
          },
          "metadata": {},
          "execution_count": 3
        }
      ]
    },
    {
      "cell_type": "code",
      "source": [
        "# из первой вычитаем четвёртую\n",
        "A[0,:] = A[0,:] - A[3,:] * 1\n",
        "A"
      ],
      "metadata": {
        "colab": {
          "base_uri": "https://localhost:8080/"
        },
        "id": "xxCGAeLlwC8P",
        "outputId": "36ed87e1-87eb-4b9d-de7f-5bde767573f5"
      },
      "execution_count": null,
      "outputs": [
        {
          "output_type": "execute_result",
          "data": {
            "text/plain": [
              "Matrix([\n",
              "[0, 0, -4,  3],\n",
              "[0, 0,  3, -2],\n",
              "[1, 0,  0,  0],\n",
              "[0, 1,  0,  0]])"
            ],
            "text/latex": "$\\displaystyle \\left[\\begin{matrix}0 & 0 & -4 & 3\\\\0 & 0 & 3 & -2\\\\1 & 0 & 0 & 0\\\\0 & 1 & 0 & 0\\end{matrix}\\right]$"
          },
          "metadata": {},
          "execution_count": 4
        }
      ]
    },
    {
      "cell_type": "code",
      "source": [
        "# первую умножаем на два и вычитаем вторую\n",
        "A[0,:] = A[0,:]  * 2 - A[1,:] * (-3)\n",
        "A"
      ],
      "metadata": {
        "id": "7iJviZ_Ywqq5",
        "colab": {
          "base_uri": "https://localhost:8080/"
        },
        "outputId": "a0cdcaf3-34ec-4212-d929-412780e06630"
      },
      "execution_count": null,
      "outputs": [
        {
          "output_type": "execute_result",
          "data": {
            "text/plain": [
              "Matrix([\n",
              "[0, 0, 1,  0],\n",
              "[0, 0, 3, -2],\n",
              "[1, 0, 0,  0],\n",
              "[0, 1, 0,  0]])"
            ],
            "text/latex": "$\\displaystyle \\left[\\begin{matrix}0 & 0 & 1 & 0\\\\0 & 0 & 3 & -2\\\\1 & 0 & 0 & 0\\\\0 & 1 & 0 & 0\\end{matrix}\\right]$"
          },
          "metadata": {},
          "execution_count": 5
        }
      ]
    },
    {
      "cell_type": "code",
      "source": [
        "# из второй перввую вычитаем трижды\n",
        "A[1,:] = A[1,:] - A[0,:] * 3\n",
        "A\n",
        "# определитель не равен нулю\n",
        "# значит, для получения базиса достаточно добавить к а1 и а2 е1 и е2"
      ],
      "metadata": {
        "colab": {
          "base_uri": "https://localhost:8080/"
        },
        "id": "u5CIZc8qx4Dv",
        "outputId": "708b82fc-6d33-4aa5-d22f-7f6e2ba6422d"
      },
      "execution_count": null,
      "outputs": [
        {
          "output_type": "execute_result",
          "data": {
            "text/plain": [
              "Matrix([\n",
              "[0, 0, 1,  0],\n",
              "[0, 0, 0, -2],\n",
              "[1, 0, 0,  0],\n",
              "[0, 1, 0,  0]])"
            ],
            "text/latex": "$\\displaystyle \\left[\\begin{matrix}0 & 0 & 1 & 0\\\\0 & 0 & 0 & -2\\\\1 & 0 & 0 & 0\\\\0 & 1 & 0 & 0\\end{matrix}\\right]$"
          },
          "metadata": {},
          "execution_count": 6
        }
      ]
    }
  ]
}