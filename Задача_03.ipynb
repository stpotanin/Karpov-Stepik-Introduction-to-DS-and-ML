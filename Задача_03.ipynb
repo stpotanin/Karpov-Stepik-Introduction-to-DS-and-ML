{
  "nbformat": 4,
  "nbformat_minor": 0,
  "metadata": {
    "colab": {
      "provenance": [],
      "authorship_tag": "ABX9TyMPE5pyZL5/eOa4SHYgvHOq"
    },
    "kernelspec": {
      "name": "python3",
      "display_name": "Python 3"
    },
    "language_info": {
      "name": "python"
    }
  },
  "cells": [
    {
      "cell_type": "markdown",
      "source": [
        "[git](https://github.com/bdemeshev/coursera_linal/blob/master/week_01/problems/quiz_questions.yml)\n",
        "\n",
        "# Задача 03"
      ],
      "metadata": {
        "id": "AXcH2Q-B1ocx"
      }
    },
    {
      "cell_type": "markdown",
      "source": [
        "## Вариант 1\n",
        "Для преобразования $$A: \\begin{pmatrix} x_{1} \\\\ x_{2} \\end{pmatrix} \\rightarrow \\begin{pmatrix} x_{1}+3 x_{2} \\\\ x_{1}-4 x_{2} \\end{pmatrix} $$ Найдите все вектора $v = \\begin{pmatrix} v_{1} \\\\ v_{2} \\end{pmatrix} $, для которых $v \\perp Av$. В ответе укажите отношение $v_{2}/ v_{1}$ (ответ округлите до двух знаков после запятой). Если получено несколько соотношений, для которых выполняется $v \\perp Av$, укажите большее из них."
      ],
      "metadata": {
        "id": "4ldJsDfX6_5d"
      }
    },
    {
      "cell_type": "markdown",
      "source": [
        "## Решение"
      ],
      "metadata": {
        "id": "K6lhyXJY6gIY"
      }
    },
    {
      "cell_type": "markdown",
      "source": [
        "$$v_{1} ( v_{1}+3 v_{2} ) + v_{2} (v_{1}-4 v_{2}) = 0$$ $$v_{1}^2 + 4 v_{1} v_{2} -4 v_{2}^2 = 0$$ $$ v_{2}/ v_{1} = 1/2 \\pm \\sqrt{2}/2 $$"
      ],
      "metadata": {
        "id": "p5qk-5377aFv"
      }
    },
    {
      "cell_type": "code",
      "source": [
        "#@title Ответ\n",
        "# range:(1.15, 1.3)\n",
        "\n",
        "import numpy as np\n",
        ".5 + 2**.5 / 2\n",
        "#"
      ],
      "metadata": {
        "id": "5990mxfY5eY9",
        "colab": {
          "base_uri": "https://localhost:8080/"
        },
        "outputId": "6ddb059f-39ea-4223-bf9c-e4782e9435ea"
      },
      "execution_count": null,
      "outputs": [
        {
          "output_type": "execute_result",
          "data": {
            "text/plain": [
              "1.2071067811865475"
            ]
          },
          "metadata": {},
          "execution_count": 2
        }
      ]
    },
    {
      "cell_type": "markdown",
      "source": [
        "# Подробно\n",
        "Чтобы найти все векторы $ v = (v_1, v_2) $, для которых $ v \\perp Av $, сначала запишем $ A(v) $ для произвольного вектора $ v $.\n",
        "\n",
        "$$ A(v) = A \\begin{pmatrix} v_1 \\\\ v_2 \\end{pmatrix} = \\begin{pmatrix} v_1 + 3v_2 \\\\ v_1 - 4v_2 \\end{pmatrix} $$\n",
        "\n",
        "Вектор $ v \\perp Av $ означает, что их скалярное произведение равно нулю:\n",
        "\n",
        "$$ v \\cdot A(v) = 0 $$\n",
        "\n",
        "То есть:\n",
        "\n",
        "$$ v_1(v_1 + 3v_2) + v_2(v_1 - 4v_2) = 0 $$\n",
        "\n",
        "Раскроем скобки и упростим выражение:\n",
        "\n",
        "$$ v_1^2 + 3v_1v_2 + v_1v_2 - 4v_2^2 = 0 $$\n",
        "$$ v_1^2 + 4v_1v_2 - 4v_2^2 = 0 $$\n",
        "\n",
        "Разделим на $ v_1^2 $ (предполагая, что $ v_1 \\neq 0 $):\n",
        "\n",
        "$$ 1 + 4 \\frac{v_2}{v_1} - 4 \\left(\\frac{v_2}{v_1}\\right)^2 = 0 $$\n",
        "\n",
        "Обозначим $ t = \\frac{v_2}{v_1} $. Получим квадратное уравнение относительно $ t $:\n",
        "\n",
        "$$ 4t^2 - 4t - 1 = 0 $$\n",
        "\n",
        "Получаем два корня:\n",
        "\n",
        "$$ t_1 = \\frac{1 + \\sqrt{2}}{2} $$\n",
        "$$ t_2 = \\frac{1 - \\sqrt{2}}{2} $$\n",
        "\n",
        "Из двух значений $ t $, большее из них:\n",
        "\n",
        "$$ \\boxed{1.21} $$"
      ],
      "metadata": {
        "id": "fZcj2gklEW3n"
      }
    },
    {
      "cell_type": "code",
      "source": [
        "# TODO\n",
        "\n",
        "import numpy as np\n",
        "\n",
        "# Определяем матрицу преобразования\n",
        "A = np.array([[1, 3], [1, -4]])\n",
        "\n",
        "# Задаем систему уравнений, которые представляют условие перпендикулярности v и Av\n",
        "# Мы ищем v = [v1, v2], такое что v^T * A * v = 0\n",
        "# Это дает уравнение v1^2 + 4*v1*v2 - 4*v2^2 = 0\n",
        "\n",
        "# Пусть v1 = 1 (можем взять любое ненулевое значение для v1)\n",
        "v1 = 1\n",
        "\n",
        "# Подставляем v1 в уравнение и находим v2\n",
        "coeffs = [4, 4, -1]  # коэффициенты квадратного уравнения 4v2^2 + 4v2 - 1 = 0\n",
        "v2_solutions = np.roots(coeffs)\n",
        "\n",
        "# Вычисляем отношение v2/v1 для каждого решения и выбираем большее по модулю\n",
        "ratios = abs(v2_solutions / v1)\n",
        "max_ratio = np.max(ratios)\n",
        "\n",
        "print(f\"Максимальное отношение v2/v1: {max_ratio:.2f}\")\n"
      ],
      "metadata": {
        "colab": {
          "base_uri": "https://localhost:8080/"
        },
        "id": "O6VkWj-iGefK",
        "outputId": "0e4e46c7-ea00-4d06-a6aa-077d57aeba97"
      },
      "execution_count": null,
      "outputs": [
        {
          "output_type": "stream",
          "name": "stdout",
          "text": [
            "Максимальное отношение v2/v1: 1.21\n"
          ]
        }
      ]
    }
  ]
}