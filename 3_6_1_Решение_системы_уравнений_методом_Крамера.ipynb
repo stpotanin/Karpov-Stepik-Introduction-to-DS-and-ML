{
  "nbformat": 4,
  "nbformat_minor": 0,
  "metadata": {
    "colab": {
      "provenance": [],
      "authorship_tag": "ABX9TyMXlmcUklGSE6ZC83+LDUz3"
    },
    "kernelspec": {
      "name": "python3",
      "display_name": "Python 3"
    },
    "language_info": {
      "name": "python"
    }
  },
  "cells": [
    {
      "cell_type": "markdown",
      "source": [
        "[3.6. Решение системы уравнений методом Крамера](https://youtu.be/cdEw-6Dkesg?si=Q7w0yASSw6bE2yVx)\n",
        "\n",
        "Теория [1](https://spravochnick.ru/matematika/metod_kramera/), [2](https://dzen.ru/a/Xu9L_-49Xhq28z8B), [3](http://www.mathprofi.ru/pravilo_kramera_matrichnyi_metod.html)"
      ],
      "metadata": {
        "id": "4HBqljrBACgE"
      }
    },
    {
      "cell_type": "markdown",
      "source": [
        "# [Пример 7](http://www.mathprofi.ru/pravilo_kramera_matrichnyi_metod.html)\n",
        "Решить систему линейных уравнений\n",
        "\n",
        "$$\n",
        "\\begin{cases}\n",
        "506x + 66y = 2315,1 \\\\\n",
        "66x + 11y = 392,3\n",
        "\\end{cases}\n",
        "$$"
      ],
      "metadata": {
        "id": "Ay7gDAHFCedr"
      }
    },
    {
      "cell_type": "markdown",
      "source": [
        "# Решение"
      ],
      "metadata": {
        "id": "npe3jc72HChA"
      }
    },
    {
      "cell_type": "code",
      "source": [
        "A = [[506, 66],\n",
        "    [66, 11]]\n",
        "b = [2315.1,\n",
        "     392.3]\n",
        "\n",
        "def det(A):\n",
        "    return A[0][0] * A[1][1] - A[0][1] * A[1][0]\n",
        "\n",
        "def kramer(A, b):\n",
        "    det_A = det(A)\n",
        "    if det_A == 0:\n",
        "        return \"Система не имеет решений\"\n",
        "    else:\n",
        "        x = det([[b[0], A[1][0]],\n",
        "                [b[1], A[1][1]]]) / det_A\n",
        "\n",
        "        y = det([[A[0][0], b[0]],\n",
        "                [A[0][1], b[1]]]) / det_A\n",
        "        return x, y\n",
        "print('x, y =', tuple(round(value, 2) for value in kramer(A, b)))"
      ],
      "metadata": {
        "id": "uT0wI8ZRHPN9",
        "colab": {
          "base_uri": "https://localhost:8080/"
        },
        "outputId": "841acb43-fadb-4257-d70b-aa5f55e57dd3"
      },
      "execution_count": 3,
      "outputs": [
        {
          "output_type": "stream",
          "name": "stdout",
          "text": [
            "x, y = (-0.35, 37.77)\n"
          ]
        }
      ]
    },
    {
      "cell_type": "markdown",
      "source": [
        "# Теория\n",
        "Метод Крамра применяется для решения систем линейных уравнений, в которых число уравнений равно числу неизвестных. Рассмотрим систему двух уравнений с двумя неизвестными:\n",
        "\n",
        "$$\n",
        "\\begin{cases}\n",
        "a_1x + b_1y = c_1 \\\\\n",
        "a_2x + b_2y = c_2\n",
        "\\end{cases}\n",
        "$$\n",
        "\n",
        "Чтобы решить эту систему методом Крамера, выполните следующие шаги:\n",
        "\n",
        "1. **Запишите матрицу коэффициентов** системы:\n",
        "\n",
        "$$\n",
        "A = \\begin{pmatrix}\n",
        "a_1 & b_1 \\\\\n",
        "a_2 & b_2\n",
        "\\end{pmatrix}\n",
        "$$\n",
        "\n",
        "2. **Найдите определитель матрицы коэффициентов** $ \\Delta $:\n",
        "\n",
        "$$\n",
        "\\Delta = \\det(A) = a_1b_2 - a_2b_1\n",
        "$$\n",
        "\n",
        "3. **Запишите матрицы для нахождения $ x $ и $ y $**:\n",
        "\n",
        "   - Матрица для нахождения $ x $ получается заменой первого столбца матрицы $ A $ на столбец свободных членов $ c_1 $ и $ c_2 $:\n",
        "\n",
        "$$\n",
        "A_x = \\begin{pmatrix}\n",
        "c_1 & b_1 \\\\\n",
        "c_2 & b_2\n",
        "\\end{pmatrix}\n",
        "$$\n",
        "\n",
        "   - Матрица для нахождения $ y $ получается заменой второго столбца матрицы $ A $ на столбец свободных членов $ c_1 $ и $ c_2 $:\n",
        "\n",
        "$$\n",
        "A_y = \\begin{pmatrix}\n",
        "a_1 & c_1 \\\\\n",
        "a_2 & c_2\n",
        "\\end{pmatrix}\n",
        "$$\n",
        "\n",
        "4. **Найдите определители матриц $ \\Delta_x $ и $ \\Delta_y $**:\n",
        "\n",
        "$$\n",
        "\\Delta_x = \\det(A_x) = c_1b_2 - c_2b_1\n",
        "$$\n",
        "\n",
        "$$\n",
        "\\Delta_y = \\det(A_y) = a_1c_2 - a_2c_1\n",
        "$$\n",
        "\n",
        "5. **Решение системы уравнений**:\n",
        "\n",
        "$$\n",
        "x = \\frac{\\Delta_x}{\\Delta}\n",
        "$$\n",
        "\n",
        "$$\n",
        "y = \\frac{\\Delta_y}{\\Delta}\n",
        "$$\n",
        "\n",
        "### Пример\n",
        "\n",
        "Рассмотрим следующую систему уравнений:\n",
        "\n",
        "$$\n",
        "\\begin{cases}\n",
        "2x + 3y = 5 \\\\\n",
        "4x + 6y = 8\n",
        "\\end{cases}\n",
        "$$\n",
        "\n",
        "1. Матрица коэффициентов:\n",
        "\n",
        "$$\n",
        "A = \\begin{pmatrix}\n",
        "2 & 3 \\\\\n",
        "4 & 6\n",
        "\\end{pmatrix}\n",
        "$$\n",
        "\n",
        "2. Определитель:\n",
        "\n",
        "$$\n",
        "\\Delta = \\det(A) = 2 \\cdot 6 - 4 \\cdot 3 = 12 - 12 = 0\n",
        "$$\n",
        "\n",
        "Так как $ \\Delta = 0 $, метод Крамера не может быть применен. Это означает, что система либо не имеет решений, либо имеет бесконечно много решений.\n",
        "\n",
        "Для решения подобных систем нужно использовать другие методы, такие как метод Гаусса или проверку совместности системы."
      ],
      "metadata": {
        "id": "Q6YrE9B3DmCF"
      }
    }
  ]
}