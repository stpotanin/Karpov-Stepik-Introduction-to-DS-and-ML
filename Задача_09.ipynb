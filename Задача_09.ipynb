{
  "nbformat": 4,
  "nbformat_minor": 0,
  "metadata": {
    "colab": {
      "provenance": [],
      "authorship_tag": "ABX9TyPQSGqbp1tonNEPUcfjUoAj"
    },
    "kernelspec": {
      "name": "python3",
      "display_name": "Python 3"
    },
    "language_info": {
      "name": "python"
    }
  },
  "cells": [
    {
      "cell_type": "markdown",
      "source": [
        "[git](https://github.com/bdemeshev/coursera_linal/blob/master/week_01/problems/quiz_questions.yml)\n",
        "\n",
        "# Задача 09"
      ],
      "metadata": {
        "id": "AXcH2Q-B1ocx"
      }
    },
    {
      "cell_type": "markdown",
      "source": [
        "## Вариант 1\n",
        "Пусть $v = \\begin{pmatrix}v_{1} \\\\v_{2}\\end{pmatrix} $. Найдите операцию $A$, которая поворачивает вектор $v$ на 45 градусов по часовой стрелке:\n",
        "\n",
        "* $A: \\begin{pmatrix} v_{1} \\\\ v_{2} \\end{pmatrix} \\to \\begin{pmatrix} 1/\\sqrt{2} \\cdot v_{1} + 1/\\sqrt{2} \\cdot v_{2} \\\\ -1/\\sqrt{2} \\cdot v_{1} + 1/\\sqrt{2} \\cdot v_{2} \\end{pmatrix} $.\n",
        "* $A: \\begin{pmatrix} v_{1} \\\\ v_{2} \\end{pmatrix} \\to \\begin{pmatrix} 1/\\sqrt{2} \\cdot v_{1} - 1/\\sqrt{2} \\cdot v_{2} \\\\ -1/\\sqrt{2} \\cdot v_{1} - 1/\\sqrt{2} \\cdot v_{2} \\end{pmatrix} $.\n",
        "\n",
        "* $A: \\begin{pmatrix} v_{1} \\\\ v_{2} \\end{pmatrix} \\to \\begin{pmatrix} 1/\\sqrt{2} \\cdot v_{1} + 1/\\sqrt{2} \\cdot v_{2} \\\\ 1/\\sqrt{2} \\cdot v_{1} - 1/\\sqrt{2} \\cdot v_{2} \\end{pmatrix} $.\n",
        "\n",
        "* $A: \\begin{pmatrix} v_{1} \\\\ v_{2} \\end{pmatrix} \\to \\begin{pmatrix} 1/{2} \\cdot v_{1} - \\sqrt{3}/2 \\cdot v_{2} \\\\ \\sqrt{3}/2 \\cdot v_{1} + 1/{2} \\cdot v_{2} \\end{pmatrix} $."
      ],
      "metadata": {
        "id": "4ldJsDfX6_5d"
      }
    },
    {
      "cell_type": "markdown",
      "source": [
        "## Решение"
      ],
      "metadata": {
        "id": "K6lhyXJY6gIY"
      }
    },
    {
      "cell_type": "markdown",
      "source": [
        "* $A: \\begin{pmatrix} v_{1} \\\\ v_{2} \\end{pmatrix} \\to \\begin{pmatrix} 1/\\sqrt{2} \\cdot v_{1} + 1/\\sqrt{2} \\cdot v_{2} \\\\ -1/\\sqrt{2} \\cdot v_{1} + 1/\\sqrt{2} \\cdot v_{2} \\end{pmatrix} $ true\n",
        "\n",
        "* $A: \\begin{pmatrix} v_{1} \\\\ v_{2} \\end{pmatrix} \\to \\begin{pmatrix} 1/\\sqrt{2} \\cdot v_{1} - 1/\\sqrt{2} \\cdot v_{2} \\\\ -1/\\sqrt{2} \\cdot v_{1} - 1/\\sqrt{2} \\cdot v_{2} \\end{pmatrix} $ false\n",
        "\n",
        "* $A: \\begin{pmatrix} v_{1} \\\\ v_{2} \\end{pmatrix} \\to \\begin{pmatrix} 1/\\sqrt{2} \\cdot v_{1} + 1/\\sqrt{2} \\cdot v_{2} \\\\ 1/\\sqrt{2} \\cdot v_{1} - 1/\\sqrt{2} \\cdot v_{2} \\end{pmatrix} $ false\n",
        "\n",
        "* $A: \\begin{pmatrix} v_{1} \\\\ v_{2} \\end{pmatrix} \\to \\begin{pmatrix} 1/{2} \\cdot v_{1} - \\sqrt{3}/2 \\cdot v_{2} \\\\ \\sqrt{3}/2 \\cdot v_{1} + 1/{2} \\cdot v_{2} \\end{pmatrix} $ false"
      ],
      "metadata": {
        "id": "p5qk-5377aFv"
      }
    },
    {
      "cell_type": "code",
      "source": [
        "import numpy as np\n",
        "\n",
        "v1 = [1, 0]\n",
        "v2 = [0.70710678, 0.70710678]\n",
        "v3 = [0, 1]\n",
        "A = [[1/2**.5, 1/2**.5],\n",
        "     [-1/2**.5, 1/2**.5]]\n",
        "# проверка\n",
        "print([round(x, 3) for x in np.dot(A, v1)])\n",
        "print([round(x, 3) for x in np.dot(A, v2)])\n",
        "print([round(x, 3) for x in np.dot(A, v3)])"
      ],
      "metadata": {
        "id": "5990mxfY5eY9",
        "colab": {
          "base_uri": "https://localhost:8080/"
        },
        "outputId": "a2f3dfcb-d0a2-4749-99da-bfa935795b92"
      },
      "execution_count": 17,
      "outputs": [
        {
          "output_type": "stream",
          "name": "stdout",
          "text": [
            "[0.707, -0.707]\n",
            "[1.0, 0.0]\n",
            "[0.707, 0.707]\n"
          ]
        }
      ]
    },
    {
      "cell_type": "markdown",
      "source": [
        "## Объяснение\n",
        "Для того чтобы найти правильную операцию $ A $, которая поворачивает вектор $ v = \\begin{pmatrix} v_1 \\\\ v_2 \\end{pmatrix} $ на 45 градусов по часовой стрелке, нужно вспомнить, что матрица поворота на угол $ \\theta $ в двумерном пространстве имеет следующий вид:\n",
        "\n",
        "$$\n",
        "R(\\theta) = \\begin{pmatrix}\n",
        "\\cos \\theta & \\sin \\theta \\\\\n",
        "-\\sin \\theta & \\cos \\theta\n",
        "\\end{pmatrix}\n",
        "$$\n",
        "\n",
        "Для угла $ \\theta = -45^\\circ $ (так как поворот по часовой стрелке), косинус и синус этого угла равны:\n",
        "\n",
        "$$\n",
        "\\cos(-45^\\circ) = \\frac{1}{\\sqrt{2}}, \\quad \\sin(-45^\\circ) = -\\frac{1}{\\sqrt{2}}\n",
        "$$\n",
        "\n",
        "Подставляя значения, получаем матрицу:\n",
        "\n",
        "$$\n",
        "R(-45^\\circ) = \\begin{pmatrix}\n",
        "\\frac{1}{\\sqrt{2}} & -\\frac{1}{\\sqrt{2}} \\\\\n",
        "\\frac{1}{\\sqrt{2}} & \\frac{1}{\\sqrt{2}}\n",
        "\\end{pmatrix}\n",
        "$$\n",
        "\n",
        "Таким образом, операция $ A $, которая поворачивает вектор $ v $ на 45 градусов по часовой стрелке, будет выглядеть так:\n",
        "\n",
        "$$\n",
        "A \\begin{pmatrix} v_1 \\\\ v_2 \\end{pmatrix} = \\begin{pmatrix} \\frac{1}{\\sqrt{2}} v_1 - \\frac{1}{\\sqrt{2}} v_2 \\\\ \\frac{1}{\\sqrt{2}} v_1 + \\frac{1}{\\sqrt{2}} v_2 \\end{pmatrix}\n",
        "$$\n",
        "\n",
        "Из предложенных вариантов правильный ответ:\n",
        "\n",
        "$$\n",
        "\\boxed{A: \\begin{pmatrix} v_1 \\\\ v_2 \\end{pmatrix} \\to \\begin{pmatrix} \\frac{1}{\\sqrt{2}} \\cdot v_1 - \\frac{1}{\\sqrt{2}} \\cdot v_2 \\\\ \\frac{1}{\\sqrt{2}} \\cdot v_1 + \\frac{1}{\\sqrt{2}} \\cdot v_2 \\end{pmatrix}}\n",
        "$$"
      ],
      "metadata": {
        "id": "Bt2A4rhRMzBV"
      }
    },
    {
      "cell_type": "markdown",
      "source": [
        "## Вариант 2\n",
        "Пусть $v = \\begin{pmatrix}v_{1} \\\\v_{2}\\end{pmatrix} $. Найдите операцию $A$, которая поворачивает вектор $v$ на 45 градусов против часовой стрелки **с последующим отражением по горизонтальной оси**:"
      ],
      "metadata": {
        "id": "yGVDaatG5ev8"
      }
    },
    {
      "cell_type": "markdown",
      "source": [
        "## Решение"
      ],
      "metadata": {
        "id": "SrHteSoi8RGa"
      }
    },
    {
      "cell_type": "markdown",
      "source": [
        "* $A: \\begin{pmatrix} v_{1} \\\\ v_{2} \\end{pmatrix} \\to \\begin{pmatrix} 1/\\sqrt{2} \\cdot v_{1} - 1/\\sqrt{2} \\cdot v_{2} \\\\ 1/\\sqrt{2} \\cdot v_{1} + 1/\\sqrt{2} \\cdot v_{2} \\end{pmatrix} $ false\n",
        "\n",
        "* $A: \\begin{pmatrix} v_{1} \\\\ v_{2} \\end{pmatrix} \\to \\begin{pmatrix} 1/\\sqrt{2} \\cdot v_{1} - 1/\\sqrt{2} \\cdot v_{2} \\\\ -1/\\sqrt{2} \\cdot v_{1} - 1/\\sqrt{2} \\cdot v_{2} \\end{pmatrix} $ true\n",
        "\n",
        "* $A: \\begin{pmatrix} v_{1} \\\\ v_{2} \\end{pmatrix} \\to \\begin{pmatrix} 1/\\sqrt{2} \\cdot v_{1} + 1/\\sqrt{2} \\cdot v_{2} \\\\ 1/\\sqrt{2} \\cdot v_{1} - 1/\\sqrt{2} \\cdot v_{2} \\end{pmatrix} $ false\n",
        "\n",
        "* $A: \\begin{pmatrix} v_{1} \\\\ v_{2} \\end{pmatrix} \\to \\begin{pmatrix} 1/{2} \\cdot v_{1} - \\sqrt{3}/2 \\cdot v_{2} \\\\ \\sqrt{3}/2 \\cdot v_{1} + 1/{2} \\cdot v_{2} \\end{pmatrix} $ false"
      ],
      "metadata": {
        "id": "7sduH1xC-nvv"
      }
    },
    {
      "cell_type": "code",
      "source": [
        "import numpy as np\n",
        "\n",
        "v1 = [1, 0]\n",
        "v2 = [0.70710678, 0.70710678]\n",
        "v3 = [0, 1]\n",
        "A_inv = [[1/2**.5, -1/2**.5],\n",
        "     [-1/2**.5, -1/2**.5]]\n",
        "# проверка\n",
        "print([round(x, 3) for x in np.dot(A_inv, v1)])\n",
        "print([round(x, 3) for x in np.dot(A_inv, v2)])\n",
        "print([round(x, 3) for x in np.dot(A_inv, v3)])"
      ],
      "metadata": {
        "id": "XFeOtjwZ9hjh",
        "colab": {
          "base_uri": "https://localhost:8080/"
        },
        "outputId": "03252c05-577a-46bf-e85d-8c8086f0e88d"
      },
      "execution_count": 19,
      "outputs": [
        {
          "output_type": "stream",
          "name": "stdout",
          "text": [
            "[0.707, -0.707]\n",
            "[-0.0, -1.0]\n",
            "[-0.707, -0.707]\n"
          ]
        }
      ]
    },
    {
      "cell_type": "markdown",
      "source": [
        "# Объяснениие\n",
        "Чтобы найти операцию $ A $, которая поворачивает вектор $ v = \\begin{pmatrix} v_1 \\\\ v_2 \\end{pmatrix} $ на 45 градусов против часовой стрелки, а затем отражает его по горизонтальной оси, нужно выполнить два шага:\n",
        "\n",
        "1. **Поворот на 45 градусов против часовой стрелки.**\n",
        "\n",
        "   Матрица поворота на угол $ \\theta $ против часовой стрелки в двумерном пространстве имеет вид:\n",
        "   $$\n",
        "   R(\\theta) = \\begin{pmatrix}\n",
        "   \\cos \\theta & -\\sin \\theta \\\\\n",
        "   \\sin \\theta & \\cos \\theta\n",
        "   \\end{pmatrix}\n",
        "   $$\n",
        "   Для угла $ \\theta = 45^\\circ $, косинус и синус этого угла равны $ \\frac{1}{\\sqrt{2}} $. Соответствующая матрица поворота:\n",
        "   $$\n",
        "   R(45^\\circ) = \\begin{pmatrix}\n",
        "   \\frac{1}{\\sqrt{2}} & -\\frac{1}{\\sqrt{2}} \\\\\n",
        "   \\frac{1}{\\sqrt{2}} & \\frac{1}{\\sqrt{2}}\n",
        "   \\end{pmatrix}\n",
        "   $$\n",
        "\n",
        "2. **Отражение по горизонтальной оси.**\n",
        "\n",
        "   Отражение по горизонтальной оси (оси $ x $) реализуется матрицей:\n",
        "   $$\n",
        "   H = \\begin{pmatrix}\n",
        "   1 & 0 \\\\\n",
        "   0 & -1\n",
        "   \\end{pmatrix}\n",
        "   $$\n",
        "\n",
        "Теперь нужно найти результат последовательного применения этих двух операций: сначала поворот $ R(45^\\circ) $, а затем отражение $ H $. Это делается путем умножения соответствующих матриц:\n",
        "\n",
        "$$\n",
        "A = H \\cdot R(45^\\circ) = \\begin{pmatrix}\n",
        "1 & 0 \\\\\n",
        "0 & -1\n",
        "\\end{pmatrix} \\cdot \\begin{pmatrix}\n",
        "\\frac{1}{\\sqrt{2}} & -\\frac{1}{\\sqrt{2}} \\\\\n",
        "\\frac{1}{\\sqrt{2}} & \\frac{1}{\\sqrt{2}}\n",
        "\\end{pmatrix}\n",
        "$$\n",
        "\n",
        "Произведем умножение матриц:\n",
        "\n",
        "$$\n",
        "A = \\begin{pmatrix}\n",
        "1 & 0 \\\\\n",
        "0 & -1\n",
        "\\end{pmatrix} \\cdot \\begin{pmatrix}\n",
        "\\frac{1}{\\sqrt{2}} & -\\frac{1}{\\sqrt{2}} \\\\\n",
        "\\frac{1}{\\sqrt{2}} & \\frac{1}{\\sqrt{2}}\n",
        "\\end{pmatrix} = \\begin{pmatrix}\n",
        "\\frac{1}{\\sqrt{2}} & -\\frac{1}{\\sqrt{2}} \\\\\n",
        "-\\frac{1}{\\sqrt{2}} & -\\frac{1}{\\sqrt{2}}\n",
        "\\end{pmatrix}\n",
        "$$\n",
        "\n",
        "Таким образом, операция $ A $ будет:\n",
        "\n",
        "$$\n",
        "A \\begin{pmatrix} v_1 \\\\ v_2 \\end{pmatrix} = \\begin{pmatrix} \\frac{1}{\\sqrt{2}} v_1 - \\frac{1}{\\sqrt{2}} v_2 \\\\ -\\frac{1}{\\sqrt{2}} v_1 - \\frac{1}{\\sqrt{2}} v_2 \\end{pmatrix}\n",
        "$$\n",
        "\n",
        "Это выражение соответствует следующему варианту:\n",
        "\n",
        "$$\n",
        "\\boxed{A: \\begin{pmatrix} v_1 \\\\ v_2 \\end{pmatrix} \\to \\begin{pmatrix} \\frac{1}{\\sqrt{2}} v_1 - \\frac{1}{\\sqrt{2}} v_2 \\\\ -\\frac{1}{\\sqrt{2}} v_1 - \\frac{1}{\\sqrt{2}} v_2 \\end{pmatrix}}\n",
        "$$"
      ],
      "metadata": {
        "id": "dyO7qC9qOZ1m"
      }
    }
  ]
}