{
  "nbformat": 4,
  "nbformat_minor": 0,
  "metadata": {
    "colab": {
      "provenance": [],
      "authorship_tag": "ABX9TyPCrcTGS+so++4Vvr29u8Qn"
    },
    "kernelspec": {
      "name": "python3",
      "display_name": "Python 3"
    },
    "language_info": {
      "name": "python"
    }
  },
  "cells": [
    {
      "cell_type": "markdown",
      "source": [
        "[3.1 Геометрическая идея определителя](https://youtu.be/WFPKeoDcEFw?si=0p4OSKxcoCifSf4E)\n",
        "\n",
        "Теория и задачи [1](https://www.math10.com/ru/vysshaya-matematika/matrix/determinant.html)"
      ],
      "metadata": {
        "id": "4HBqljrBACgE"
      }
    },
    {
      "cell_type": "markdown",
      "source": [
        "### Вычисление определителя матрицы 2x2 ([Пример 28](https://www.math10.com/ru/vysshaya-matematika/matrix/determinant.html))\n",
        "\n",
        "$$\n",
        "$$\n",
        "\\begin{bmatrix}\n",
        "2 & 5 \\\\\n",
        "3 & 8 \\\\\n",
        "\\end{bmatrix}\n",
        "$$\n",
        "$$"
      ],
      "metadata": {
        "id": "Ay7gDAHFCedr"
      }
    },
    {
      "cell_type": "markdown",
      "source": [
        "# Решение"
      ],
      "metadata": {
        "id": "npe3jc72HChA"
      }
    },
    {
      "cell_type": "code",
      "source": [
        "from sympy import Matrix # для красивого вывода\n",
        "\n",
        "def det(A):\n",
        "    # Функция для вычисления определителя матрицы\n",
        "    n = len(A)  # Размер матрицы\n",
        "\n",
        "    if n == 1:  # Базовый случай: матрица 1x1\n",
        "        return A[0][0]\n",
        "\n",
        "    if n == 2:  # Базовый случай: матрица 2x2\n",
        "        return A[0][0] * A[1][1] - A[0][1] * A[1][0]\n",
        "\n",
        "    det_value = 0  # Инициализация определителя\n",
        "    for j in range(n):\n",
        "        # Создание подматрицы\n",
        "        submatrix = [row[:j] + row[j+1:] for row in A[1:]]\n",
        "        det_value += (-1)**j * A[0][j] * det(submatrix)\n",
        "\n",
        "    return det_value"
      ],
      "metadata": {
        "id": "uT0wI8ZRHPN9"
      },
      "execution_count": 1,
      "outputs": []
    },
    {
      "cell_type": "code",
      "source": [
        "A = [[2, 5],\n",
        "     [3, 8]]\n",
        "\n",
        "print(\"Матрица A:\\n\")\n",
        "Matrix(A)"
      ],
      "metadata": {
        "colab": {
          "base_uri": "https://localhost:8080/",
          "height": 92
        },
        "id": "r7UUtXxq0tnD",
        "outputId": "b761dedf-5115-4821-e6eb-2b0f25a16764"
      },
      "execution_count": 2,
      "outputs": [
        {
          "output_type": "stream",
          "name": "stdout",
          "text": [
            "Матрица A:\n",
            "\n"
          ]
        },
        {
          "output_type": "execute_result",
          "data": {
            "text/plain": [
              "Matrix([\n",
              "[2, 5],\n",
              "[3, 8]])"
            ],
            "text/latex": "$\\displaystyle \\left[\\begin{matrix}2 & 5\\\\3 & 8\\end{matrix}\\right]$"
          },
          "metadata": {},
          "execution_count": 2
        }
      ]
    },
    {
      "cell_type": "code",
      "source": [
        "print(f\"Определитель матрицы A: {det(A)}\\n\")"
      ],
      "metadata": {
        "colab": {
          "base_uri": "https://localhost:8080/"
        },
        "id": "UHwGaJPk0uy-",
        "outputId": "9ee99429-e17f-4f2d-d237-2b320ab889ee"
      },
      "execution_count": 3,
      "outputs": [
        {
          "output_type": "stream",
          "name": "stdout",
          "text": [
            "Определитель матрицы A: 1\n",
            "\n"
          ]
        }
      ]
    }
  ]
}